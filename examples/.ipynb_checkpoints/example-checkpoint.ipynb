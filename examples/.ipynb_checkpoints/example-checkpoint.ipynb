{
 "cells": [
  {
   "cell_type": "markdown",
   "metadata": {},
   "source": [
    "# ScoreClassifier examples"
   ]
  },
  {
   "cell_type": "markdown",
   "metadata": {},
   "source": [
    "First we have to load the required libraries"
   ]
  },
  {
   "cell_type": "code",
   "execution_count": 1,
   "metadata": {},
   "outputs": [],
   "source": [
    "import pandas as pd\n",
    "import numpy as np\n",
    "import os\n",
    "\n",
    "os.chdir(\"../\")\n",
    "\n",
    "from ScoreClassifier import ScoreClassifier\n",
    "from sklearn.metrics import accuracy_score\n",
    "\n",
    "import matplotlib.pyplot as plt\n",
    "%matplotlib inline"
   ]
  },
  {
   "cell_type": "code",
   "execution_count": 2,
   "metadata": {},
   "outputs": [],
   "source": [
    "# We generate some examples: 2-dimensional X and a binary class for each observation\n",
    "X = np.array([[-1, -1], [-2, -1], [0, -1.5], [1, 1], [2, 1], [2, 3], \n",
    "              [3, 6], [5, 6], [5, 8], [11, 12], [13, 14], [10, 14]])\n",
    "y = np.array([0, 0, 0, 1, 1, 1, 1, 1, 1, 0, 0, 0])"
   ]
  },
  {
   "cell_type": "code",
   "execution_count": 3,
   "metadata": {},
   "outputs": [
    {
     "data": {
      "image/png": "[encoded data removed]",
      "text/plain": [
       "<Figure size 432x288 with 1 Axes>"
      ]
     },
     "metadata": {
      "needs_background": "light"
     },
     "output_type": "display_data"
    }
   ],
   "source": [
    "plt.scatter(X[:,0], X[:,1], c=y)\n",
    "plt.title(\"Toy example\")\n",
    "plt.show()"
   ]
  },
  {
   "cell_type": "markdown",
   "metadata": {},
   "source": [
    "Must be remembered that this is a binomial-based model, so euclidean distance doesn´t play any relevant role here. Such dataset can be easily replaced with something more convenient as a survey or other some categorical values. Here we just asume that X's dimensions are categorical type"
   ]
  },
  {
   "cell_type": "code",
   "execution_count": 4,
   "metadata": {},
   "outputs": [
    {
     "name": "stdout",
     "output_type": "stream",
     "text": [
      "Expected score: 100.0%\n"
     ]
    }
   ],
   "source": [
    "from ScoreClassifier import ScoreClassifier\n",
    "\n",
    "# We instanciate our score classifier\n",
    "clf = ScoreClassifier()\n",
    "\n",
    "clf.fit(X, y)\n",
    "nx_dict = clf.nx_\n",
    "ncx_dict = clf.ncx_\n",
    "score = clf.decision_function(X)\n",
    "y_ = clf.predict(X)\n",
    "\n",
    "print (\"Expected score: {}%\".format(accuracy_score(y,y_) * 100))"
   ]
  },
  {
   "cell_type": "markdown",
   "metadata": {},
   "source": [
    "For this particular example we obtain a 100% accuracy. To see how prediction is made please refer the development.rst file in the repository."
   ]
  },
  {
   "cell_type": "markdown",
   "metadata": {},
   "source": [
    "Here we can see over the model´s counts attibute: Each element on the list (dictionary type) is a column and each pair (key, value) are the different elements in that column en their counts respectively "
   ]
  },
  {
   "cell_type": "code",
   "execution_count": 5,
   "metadata": {},
   "outputs": [
    {
     "name": "stdout",
     "output_type": "stream",
     "text": [
      "[{-2.0: 1, -1.0: 1, 0.0: 1, 1.0: 1, 2.0: 2, 3.0: 1, 5.0: 2, 10.0: 1, 11.0: 1, 13.0: 1}, {-1.5: 1, -1.0: 2, 1.0: 2, 3.0: 1, 6.0: 2, 8.0: 1, 12.0: 1, 14.0: 2}]\n"
     ]
    }
   ],
   "source": [
    "print(nx_dict)"
   ]
  },
  {
   "cell_type": "code",
   "execution_count": 6,
   "metadata": {},
   "outputs": [
    {
     "name": "stdout",
     "output_type": "stream",
     "text": [
      "[{1.0: 1, 2.0: 2, 3.0: 1, 5.0: 2, -2.0: 0, -1.0: 0, 0.0: 0, 10.0: 0, 11.0: 0, 13.0: 0}, {1.0: 2, 3.0: 1, 6.0: 2, 8.0: 1, -1.5: 0, -1.0: 0, 12.0: 0, 14.0: 0}]\n"
     ]
    }
   ],
   "source": [
    "print(ncx_dict)"
   ]
  },
  {
   "cell_type": "code",
   "execution_count": 7,
   "metadata": {},
   "outputs": [
    {
     "data": {
      "text/plain": [
       "array([-1.79175947, -1.79175947, -1.38629436,  1.79175947,  2.19722458,\n",
       "        1.79175947,  1.79175947,  2.19722458,  1.79175947, -1.38629436,\n",
       "       -1.79175947, -1.79175947])"
      ]
     },
     "execution_count": 7,
     "metadata": {},
     "output_type": "execute_result"
    }
   ],
   "source": [
    "clf.decision_function(X)"
   ]
  },
  {
   "cell_type": "markdown",
   "metadata": {},
   "source": [
    "Here the decision function threshold 0. You can play with the threshold if you want to trade-off presicion/recall"
   ]
  },
  {
   "cell_type": "markdown",
   "metadata": {},
   "source": [
    "Be cautious about the number of classes in your dataset. At this current state this model is strictly a binary one"
   ]
  },
  {
   "cell_type": "code",
   "execution_count": 8,
   "metadata": {},
   "outputs": [],
   "source": [
    "y = np.array([1, 1, 1, 2, 2, 2, 3, 3, 3, 4, 4, 4])"
   ]
  },
  {
   "cell_type": "code",
   "execution_count": 9,
   "metadata": {},
   "outputs": [
    {
     "name": "stdout",
     "output_type": "stream",
     "text": [
      "number of classes not supported: expected 2 classes, got 4\n"
     ]
    },
    {
     "ename": "AssertionError",
     "evalue": "",
     "output_type": "error",
     "traceback": [
      "\u001b[1;31m---------------------------------------------------------------------------\u001b[0m",
      "\u001b[1;31mAssertionError\u001b[0m                            Traceback (most recent call last)",
      "\u001b[1;32m<ipython-input-9-2b6779be7f0e>\u001b[0m in \u001b[0;36m<module>\u001b[1;34m\u001b[0m\n\u001b[0;32m      2\u001b[0m \u001b[1;33m\u001b[0m\u001b[0m\n\u001b[0;32m      3\u001b[0m \u001b[0mclf\u001b[0m \u001b[1;33m=\u001b[0m \u001b[0mScoreClassifier\u001b[0m\u001b[1;33m(\u001b[0m\u001b[1;33m)\u001b[0m\u001b[1;33m\u001b[0m\u001b[1;33m\u001b[0m\u001b[0m\n\u001b[1;32m----> 4\u001b[1;33m \u001b[0mclf\u001b[0m\u001b[1;33m.\u001b[0m\u001b[0mfit\u001b[0m\u001b[1;33m(\u001b[0m\u001b[0mX\u001b[0m\u001b[1;33m,\u001b[0m \u001b[0my\u001b[0m\u001b[1;33m)\u001b[0m\u001b[1;33m\u001b[0m\u001b[1;33m\u001b[0m\u001b[0m\n\u001b[0m",
      "\u001b[1;32m~\\Documents\\GitHub\\simple-score-classifier\\ScoreClassifier.py\u001b[0m in \u001b[0;36mfit\u001b[1;34m(self, X, y, weight)\u001b[0m\n\u001b[0;32m     75\u001b[0m         \u001b[1;32mif\u001b[0m \u001b[0mlen\u001b[0m\u001b[1;33m(\u001b[0m\u001b[0mself\u001b[0m\u001b[1;33m.\u001b[0m\u001b[0mclasses_\u001b[0m\u001b[1;33m)\u001b[0m \u001b[1;33m!=\u001b[0m \u001b[1;36m2\u001b[0m\u001b[1;33m:\u001b[0m\u001b[1;33m\u001b[0m\u001b[1;33m\u001b[0m\u001b[0m\n\u001b[0;32m     76\u001b[0m             \u001b[0mprint\u001b[0m\u001b[1;33m(\u001b[0m\u001b[1;34m\"number of classes not supported: expected 2 classes, got {}\"\u001b[0m\u001b[1;33m.\u001b[0m\u001b[0mformat\u001b[0m\u001b[1;33m(\u001b[0m\u001b[0mlen\u001b[0m\u001b[1;33m(\u001b[0m\u001b[0mself\u001b[0m\u001b[1;33m.\u001b[0m\u001b[0mclasses_\u001b[0m\u001b[1;33m)\u001b[0m\u001b[1;33m)\u001b[0m\u001b[1;33m)\u001b[0m\u001b[1;33m\u001b[0m\u001b[1;33m\u001b[0m\u001b[0m\n\u001b[1;32m---> 77\u001b[1;33m             \u001b[1;32massert\u001b[0m \u001b[0mlen\u001b[0m\u001b[1;33m(\u001b[0m\u001b[0mself\u001b[0m\u001b[1;33m.\u001b[0m\u001b[0mclasses_\u001b[0m\u001b[1;33m)\u001b[0m \u001b[1;33m==\u001b[0m \u001b[1;36m2\u001b[0m\u001b[1;33m\u001b[0m\u001b[1;33m\u001b[0m\u001b[0m\n\u001b[0m\u001b[0;32m     78\u001b[0m \u001b[1;33m\u001b[0m\u001b[0m\n\u001b[0;32m     79\u001b[0m         \u001b[0mself\u001b[0m\u001b[1;33m.\u001b[0m\u001b[0mX_\u001b[0m \u001b[1;33m=\u001b[0m \u001b[0mX\u001b[0m\u001b[1;33m\u001b[0m\u001b[1;33m\u001b[0m\u001b[0m\n",
      "\u001b[1;31mAssertionError\u001b[0m: "
     ]
    }
   ],
   "source": [
    "from ScoreClassifier import ScoreClassifier\n",
    "\n",
    "clf = ScoreClassifier()\n",
    "clf.fit(X, y)"
   ]
  },
  {
   "cell_type": "markdown",
   "metadata": {},
   "source": [
    "### Multi-Class ScoreClassifier"
   ]
  },
  {
   "cell_type": "markdown",
   "metadata": {},
   "source": [
    "We can workaround this limitation at the moment using a classical approach of \"One vs One\" or \"One vs the Rest\" instantiation (with all their pros and cons that it conveys):"
   ]
  },
  {
   "cell_type": "code",
   "execution_count": 10,
   "metadata": {},
   "outputs": [
    {
     "name": "stdout",
     "output_type": "stream",
     "text": [
      "Expected score: 100.0%\n"
     ]
    }
   ],
   "source": [
    "# The OneVsRestClassifier can inmediately transform a binary classifier to a multi-class classifier, making 4 different estimators (One for each class)\n",
    "from sklearn.multiclass import OneVsRestClassifier\n",
    "\n",
    "clf_OvR = OneVsRestClassifier(ScoreClassifier())\n",
    "clf_OvR.fit(X,y)\n",
    "resp_OvR = clf_OvR.decision_function(X)\n",
    "y_OvR = clf_OvR.predict(X)\n",
    "\n",
    "print (\"Expected score: {}%\".format(accuracy_score(y,y_OvR) * 100))"
   ]
  },
  {
   "cell_type": "code",
   "execution_count": 11,
   "metadata": {},
   "outputs": [
    {
     "data": {
      "text/plain": [
       "[ScoreClassifier(weighted=None),\n",
       " ScoreClassifier(weighted=None),\n",
       " ScoreClassifier(weighted=None),\n",
       " ScoreClassifier(weighted=None)]"
      ]
     },
     "execution_count": 11,
     "metadata": {},
     "output_type": "execute_result"
    }
   ],
   "source": [
    "clf_OvR.estimators_"
   ]
  },
  {
   "cell_type": "markdown",
   "metadata": {},
   "source": [
    "BTW: It can be used a weighted approximation if statistical sampling correction is needed. Just is not implemented at the moment."
   ]
  },
  {
   "cell_type": "markdown",
   "metadata": {},
   "source": [
    "We can peek on the decision function to see which class has higher score between each other:"
   ]
  },
  {
   "cell_type": "code",
   "execution_count": 12,
   "metadata": {},
   "outputs": [
    {
     "data": {
      "text/plain": [
       "array([[ 3.36867419, -0.21484475, -0.21484475, -0.21484475],\n",
       "       [ 3.36867419, -0.21484475, -0.21484475, -0.21484475],\n",
       "       [ 2.96320908,  0.19062036,  0.19062036,  0.19062036],\n",
       "       [-0.21484475,  3.36867419, -0.21484475, -0.21484475],\n",
       "       [-0.62030986,  3.7741393 , -0.62030986, -0.62030986],\n",
       "       [-0.21484475,  3.36867419, -0.21484475, -0.21484475],\n",
       "       [-0.21484475, -0.21484475,  3.36867419, -0.21484475],\n",
       "       [-0.62030986, -0.62030986,  3.7741393 , -0.62030986],\n",
       "       [-0.21484475, -0.21484475,  3.36867419, -0.21484475],\n",
       "       [ 0.19062036,  0.19062036,  0.19062036,  2.96320908],\n",
       "       [-0.21484475, -0.21484475, -0.21484475,  3.36867419],\n",
       "       [-0.21484475, -0.21484475, -0.21484475,  3.36867419]])"
      ]
     },
     "execution_count": 12,
     "metadata": {},
     "output_type": "execute_result"
    }
   ],
   "source": [
    "resp_OvR"
   ]
  },
  {
   "cell_type": "code",
   "execution_count": 13,
   "metadata": {},
   "outputs": [
    {
     "name": "stdout",
     "output_type": "stream",
     "text": [
      "Expected score: 100.0%\n"
     ]
    }
   ],
   "source": [
    "# We import the One vs One classifier\n",
    "from sklearn.multiclass import OneVsOneClassifier\n",
    "\n",
    "clf_OvO = OneVsOneClassifier(ScoreClassifier())\n",
    "clf_OvO.fit(X,y)\n",
    "resp_OvO = clf_OvO.decision_function(X)\n",
    "y_OvO = clf_OvO.predict(X)\n",
    "\n",
    "print (\"Expected score: {}%\".format(accuracy_score(y, y_OvO) * 100))"
   ]
  },
  {
   "cell_type": "markdown",
   "metadata": {},
   "source": [
    "The last multi-class library we can use is the OvO multiclass classifier. This one trains N × (N – 1) / 2 different classifiers, each one specialized in predicting between one class versus other one"
   ]
  },
  {
   "cell_type": "code",
   "execution_count": 14,
   "metadata": {},
   "outputs": [
    {
     "data": {
      "text/plain": [
       "(ScoreClassifier(weighted=None),\n",
       " ScoreClassifier(weighted=None),\n",
       " ScoreClassifier(weighted=None),\n",
       " ScoreClassifier(weighted=None),\n",
       " ScoreClassifier(weighted=None),\n",
       " ScoreClassifier(weighted=None))"
      ]
     },
     "execution_count": 14,
     "metadata": {},
     "output_type": "execute_result"
    }
   ],
   "source": [
    "clf_OvO.estimators_"
   ]
  },
  {
   "cell_type": "code",
   "execution_count": 15,
   "metadata": {},
   "outputs": [
    {
     "data": {
      "text/plain": [
       "array([[ 3.28104804,  1.78606568,  0.78606568, -0.21393432],\n",
       "       [ 3.28104804,  1.78606568,  0.78606568, -0.21393432],\n",
       "       [ 3.26871986,  1.80635326,  0.80635326, -0.19364674],\n",
       "       [ 1.78606568,  3.28104804,  0.78606568, -0.21393432],\n",
       "       [ 1.77092376,  3.28942558,  0.77092376, -0.22907624],\n",
       "       [ 1.78606568,  3.28104804,  0.78606568, -0.21393432],\n",
       "       [ 1.78606568,  0.78606568,  3.28104804, -0.21393432],\n",
       "       [ 1.77092376,  0.77092376,  3.28942558, -0.22907624],\n",
       "       [ 1.78606568,  0.78606568,  3.28104804, -0.21393432],\n",
       "       [ 1.80635326,  0.80635326, -0.19364674,  3.26871986],\n",
       "       [ 1.78606568,  0.78606568, -0.21393432,  3.28104804],\n",
       "       [ 1.78606568,  0.78606568, -0.21393432,  3.28104804]])"
      ]
     },
     "execution_count": 15,
     "metadata": {},
     "output_type": "execute_result"
    }
   ],
   "source": [
    "resp_OvO"
   ]
  },
  {
   "cell_type": "markdown",
   "metadata": {},
   "source": [
    "Even that we have 6 different estimators we only get 4 decision functions. This is because the OvO technique automatially selects the estimator which wins most of the comparisons."
   ]
  },
  {
   "cell_type": "markdown",
   "metadata": {},
   "source": [
    "This model has been very useful to me when working on binary classification with mere categorical data."
   ]
  }
 ],
 "metadata": {
  "kernelspec": {
   "display_name": "Python 3",
   "language": "python",
   "name": "python3"
  },
  "language_info": {
   "codemirror_mode": {
    "name": "ipython",
    "version": 3
   },
   "file_extension": ".py",
   "mimetype": "text/x-python",
   "name": "python",
   "nbconvert_exporter": "python",
   "pygments_lexer": "ipython3",
   "version": "3.6.10"
  }
 },
 "nbformat": 4,
 "nbformat_minor": 4
}
